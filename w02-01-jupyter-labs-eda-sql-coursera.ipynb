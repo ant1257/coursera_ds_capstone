{
 "cells": [
  {
   "cell_type": "markdown",
   "metadata": {},
   "source": [
    "<center>\n",
    "    <img src=\"https://gitlab.com/ibm/skills-network/courses/placeholder101/-/raw/master/labs/module%201/images/IDSNlogo.png\"  width=\"300\" alt=\"cognitiveclass.ai logo\"  />\n",
    "</center>\n",
    "\n",
    "<h1 align=center><font size = 5>Assignment: SQL Notebook for Peer Assignment</font></h1>\n",
    "\n",
    "Estimated time needed: **60** minutes.\n",
    "\n",
    "## Introduction\n",
    "\n",
    "Using this Python notebook you will:\n",
    "\n",
    "1.  Understand the Spacex DataSet\n",
    "2.  Load the dataset  into the corresponding table in a Db2 database\n",
    "3.  Execute SQL queries to answer assignment questions\n"
   ]
  },
  {
   "cell_type": "markdown",
   "metadata": {},
   "source": [
    "## Overview of the DataSet\n",
    "\n",
    "SpaceX has gained worldwide attention for a series of historic milestones.\n",
    "\n",
    "It is the only private company ever to return a spacecraft from low-earth orbit, which it first accomplished in December 2010.\n",
    "SpaceX advertises Falcon 9 rocket launches on its website with a cost of 62 million dollars wheras other providers cost upward of 165 million dollars each, much of the savings is because Space X can reuse the first stage.\n",
    "\n",
    "Therefore if we can determine if the first stage will land, we can determine the cost of a launch.\n",
    "\n",
    "This information can be used if an alternate company wants to bid against SpaceX for a rocket launch.\n",
    "\n",
    "This dataset includes a record for each payload carried during a SpaceX mission into outer space.\n"
   ]
  },
  {
   "cell_type": "markdown",
   "metadata": {},
   "source": [
    "### Download the datasets\n",
    "\n",
    "This assignment requires you to load the spacex dataset.\n",
    "\n",
    "In many cases the dataset to be analyzed is available as a .CSV (comma separated values) file, perhaps on the internet. Click on the link below to download and save the dataset (.CSV file):\n",
    "\n",
    "<a href=\"https://cf-courses-data.s3.us.cloud-object-storage.appdomain.cloud/IBM-DS0321EN-SkillsNetwork/labs/module_2/data/Spacex.csv?utm_medium=Exinfluencer&utm_source=Exinfluencer&utm_content=000026UJ&utm_term=10006555&utm_id=NA-SkillsNetwork-Channel-SkillsNetworkCoursesIBMDS0321ENSkillsNetwork26802033-2021-01-01\" target=\"_blank\">Spacex DataSet</a>\n"
   ]
  },
  {
   "cell_type": "markdown",
   "metadata": {},
   "source": [
    "### Store the dataset in database table\n",
    "\n",
    "**it is highly recommended to manually load the table using the database console LOAD tool in DB2**.\n",
    "\n",
    "<img src = \"https://cf-courses-data.s3.us.cloud-object-storage.appdomain.cloud/IBM-DS0321EN-SkillsNetwork/labs/module_2/images/spacexload.png\">\n",
    "\n",
    "Now open the Db2 console, open the LOAD tool, Select / Drag the .CSV file for the  dataset, Next create a New Table, and then follow the steps on-screen instructions to load the data. Name the new table as follows:\n",
    "\n",
    "**SPACEXDATASET**\n",
    "\n",
    "**Follow these steps while using old DB2 UI which is having Open Console Screen**\n",
    "\n",
    "**Note:While loading Spacex dataset, ensure that detect datatypes is disabled. Later click on the pencil icon(edit option).**\n",
    "\n",
    "1.  Change the Date Format by manually typing DD-MM-YYYY and timestamp format as DD-MM-YYYY HH\\:MM:SS.\n",
    "\n",
    "    Here you should place the cursor at Date field and manually type as DD-MM-YYYY.\n",
    "\n",
    "2.  Change the PAYLOAD_MASS\\_\\_KG\\_  datatype  to INTEGER.\n",
    "\n",
    "<img src = \"https://cf-courses-data.s3.us.cloud-object-storage.appdomain.cloud/IBM-DS0321EN-SkillsNetwork/labs/module_2/images/spacexload2.png\">\n"
   ]
  },
  {
   "cell_type": "markdown",
   "metadata": {},
   "source": [
    "**Changes to be considered when having DB2 instance with the new UI having Go to UI screen**\n",
    "\n",
    "*   Refer to this insruction in this <a href=\"https://cf-courses-data.s3.us.cloud-object-storage.appdomain.cloud/IBMDeveloperSkillsNetwork-DB0201EN-SkillsNetwork/labs/Labs_Coursera_V5/labs/Lab%20-%20Sign%20up%20for%20IBM%20Cloud%20-%20Create%20Db2%20service%20instance%20-%20Get%20started%20with%20the%20Db2%20console/instructional-labs.md.html?utm_medium=Exinfluencer&utm_source=Exinfluencer&utm_content=000026UJ&utm_term=10006555&utm_id=NA-SkillsNetwork-Channel-SkillsNetworkCoursesIBMDS0321ENSkillsNetwork26802033-2021-01-01\">link</a> for viewing  the new  Go to UI screen.\n",
    "\n",
    "*   Later click on **Data link(below SQL)**  in the Go to UI screen  and click on **Load Data** tab.\n",
    "\n",
    "*   Later browse for the downloaded spacex file.\n",
    "\n",
    "<img src=\"https://cf-courses-data.s3.us.cloud-object-storage.appdomain.cloud/IBM-DS0321EN-SkillsNetwork/labs/module_2/images/browsefile.png\" width=\"800\"/>\n",
    "\n",
    "*   Once done select the schema andload the file.\n",
    "\n",
    " <img src=\"https://cf-courses-data.s3.us.cloud-object-storage.appdomain.cloud/IBM-DS0321EN-SkillsNetwork/labs/module_2/images/spacexload3.png\" width=\"800\"/>\n"
   ]
  },
  {
   "cell_type": "code",
   "execution_count": 1,
   "metadata": {},
   "outputs": [
    {
     "name": "stdout",
     "output_type": "stream",
     "text": [
      "Collecting sqlalchemy==1.3.9\n",
      "  Using cached SQLAlchemy-1.3.9-cp37-cp37m-win_amd64.whl\n",
      "Installing collected packages: sqlalchemy\n",
      "  Attempting uninstall: sqlalchemy\n",
      "    Found existing installation: SQLAlchemy 1.4.22\n",
      "    Uninstalling SQLAlchemy-1.4.22:\n",
      "      Successfully uninstalled SQLAlchemy-1.4.22\n",
      "Successfully installed sqlalchemy-1.3.9\n",
      "Requirement already satisfied: ibm_db_sa in c:\\users\\a_klebeko\\appdata\\local\\continuum\\anaconda3\\lib\\site-packages (0.3.6)\n",
      "Requirement already satisfied: ibm-db>=2.0.0 in c:\\users\\a_klebeko\\appdata\\local\\continuum\\anaconda3\\lib\\site-packages (from ibm_db_sa) (3.0.4)\n",
      "Requirement already satisfied: sqlalchemy>=0.7.3 in c:\\users\\a_klebeko\\appdata\\local\\continuum\\anaconda3\\lib\\site-packages (from ibm_db_sa) (1.3.9)\n",
      "Requirement already satisfied: ipython-sql in c:\\users\\a_klebeko\\appdata\\local\\continuum\\anaconda3\\lib\\site-packages (0.4.0)\n",
      "Requirement already satisfied: ipython>=1.0 in c:\\users\\a_klebeko\\appdata\\local\\continuum\\anaconda3\\lib\\site-packages (from ipython-sql) (7.6.1)\n",
      "Requirement already satisfied: sqlparse in c:\\users\\a_klebeko\\appdata\\local\\continuum\\anaconda3\\lib\\site-packages (from ipython-sql) (0.3.1)\n",
      "Requirement already satisfied: ipython-genutils>=0.1.0 in c:\\users\\a_klebeko\\appdata\\local\\continuum\\anaconda3\\lib\\site-packages (from ipython-sql) (0.2.0)\n",
      "Requirement already satisfied: sqlalchemy>=0.6.7 in c:\\users\\a_klebeko\\appdata\\local\\continuum\\anaconda3\\lib\\site-packages (from ipython-sql) (1.3.9)\n",
      "Requirement already satisfied: prettytable<1 in c:\\users\\a_klebeko\\appdata\\local\\continuum\\anaconda3\\lib\\site-packages (from ipython-sql) (0.7.2)\n",
      "Requirement already satisfied: six in c:\\users\\a_klebeko\\appdata\\local\\continuum\\anaconda3\\lib\\site-packages (from ipython-sql) (1.12.0)\n",
      "Requirement already satisfied: traitlets>=4.2 in c:\\users\\a_klebeko\\appdata\\local\\continuum\\anaconda3\\lib\\site-packages (from ipython>=1.0->ipython-sql) (5.1.1)\n",
      "Requirement already satisfied: decorator in c:\\users\\a_klebeko\\appdata\\local\\continuum\\anaconda3\\lib\\site-packages (from ipython>=1.0->ipython-sql) (4.4.0)\n",
      "Requirement already satisfied: jedi>=0.10 in c:\\users\\a_klebeko\\appdata\\local\\continuum\\anaconda3\\lib\\site-packages (from ipython>=1.0->ipython-sql) (0.17.2)\n",
      "Requirement already satisfied: colorama in c:\\users\\a_klebeko\\appdata\\local\\continuum\\anaconda3\\lib\\site-packages (from ipython>=1.0->ipython-sql) (0.4.1)\n",
      "Requirement already satisfied: backcall in c:\\users\\a_klebeko\\appdata\\local\\continuum\\anaconda3\\lib\\site-packages (from ipython>=1.0->ipython-sql) (0.1.0)\n",
      "Requirement already satisfied: pickleshare in c:\\users\\a_klebeko\\appdata\\local\\continuum\\anaconda3\\lib\\site-packages (from ipython>=1.0->ipython-sql) (0.7.5)\n",
      "Requirement already satisfied: prompt-toolkit<2.1.0,>=2.0.0 in c:\\users\\a_klebeko\\appdata\\local\\continuum\\anaconda3\\lib\\site-packages (from ipython>=1.0->ipython-sql) (2.0.10)\n",
      "Requirement already satisfied: setuptools>=18.5 in c:\\users\\a_klebeko\\appdata\\local\\continuum\\anaconda3\\lib\\site-packages (from ipython>=1.0->ipython-sql) (57.4.0)\n",
      "Requirement already satisfied: pygments in c:\\users\\a_klebeko\\appdata\\local\\continuum\\anaconda3\\lib\\site-packages (from ipython>=1.0->ipython-sql) (2.4.2)\n",
      "Requirement already satisfied: parso<0.8.0,>=0.7.0 in c:\\users\\a_klebeko\\appdata\\local\\continuum\\anaconda3\\lib\\site-packages (from jedi>=0.10->ipython>=1.0->ipython-sql) (0.7.0)\n",
      "Requirement already satisfied: wcwidth in c:\\users\\a_klebeko\\appdata\\local\\continuum\\anaconda3\\lib\\site-packages (from prompt-toolkit<2.1.0,>=2.0.0->ipython>=1.0->ipython-sql) (0.1.7)\n"
     ]
    }
   ],
   "source": [
    "!pip install sqlalchemy==1.3.9\n",
    "!pip install ibm_db_sa\n",
    "!pip install ipython-sql"
   ]
  },
  {
   "cell_type": "markdown",
   "metadata": {},
   "source": [
    "### Connect to the database\n",
    "\n",
    "Let us first load the SQL extension and establish a connection with the database\n"
   ]
  },
  {
   "cell_type": "code",
   "execution_count": null,
   "metadata": {},
   "outputs": [],
   "source": [
    "%load_ext sql"
   ]
  },
  {
   "cell_type": "markdown",
   "metadata": {},
   "source": [
    "**DB2 magic in case of old UI service credentials.**\n",
    "\n",
    "In the next cell enter your db2 connection string. Recall you created Service Credentials for your Db2 instance before. From the **uri** field of your Db2 service credentials copy everything after db2:// (except the double quote at the end) and paste it in the cell below after ibm_db_sa://\n",
    "\n",
    "<img src =\"https://cf-courses-data.s3.us.cloud-object-storage.appdomain.cloud/IBMDeveloperSkillsNetwork-DB0201EN-SkillsNetwork/labs/FinalModule_edX/images/URI.jpg\">\n",
    "\n",
    "in the following format\n",
    "\n",
    "**%sql ibm_db_sa://my-username:my-password\\@my-hostname:my-port/my-db-name**\n",
    "\n",
    "**DB2 magic in case of new UI service credentials.**\n",
    "\n",
    "<img src =\"https://cf-courses-data.s3.us.cloud-object-storage.appdomain.cloud/IBM-DS0321EN-SkillsNetwork/labs/module_2/images/servicecredentials.png\" width=600>  \n",
    "\n",
    "*   Use the following format.\n",
    "\n",
    "*   Add security=SSL at the end\n",
    "\n",
    "**%sql ibm_db_sa://my-username:my-password\\@my-hostname:my-port/my-db-name?security=SSL**\n"
   ]
  },
  {
   "cell_type": "code",
   "execution_count": null,
   "metadata": {},
   "outputs": [],
   "source": []
  },
  {
   "cell_type": "code",
   "execution_count": null,
   "metadata": {},
   "outputs": [],
   "source": []
  },
  {
   "cell_type": "code",
   "execution_count": null,
   "metadata": {},
   "outputs": [],
   "source": [
    "%sql ibm_db_sa://"
   ]
  },
  {
   "cell_type": "markdown",
   "metadata": {},
   "source": [
    "# Connection ot SQLite"
   ]
  },
  {
   "cell_type": "markdown",
   "metadata": {},
   "source": [
    "https://sqliteonline.com/"
   ]
  },
  {
   "cell_type": "markdown",
   "metadata": {},
   "source": [
    "Step 1. Import csv into SQLite"
   ]
  },
  {
   "cell_type": "markdown",
   "metadata": {},
   "source": [
    "Step 2. Connect to SQLite OnLine"
   ]
  },
  {
   "cell_type": "code",
   "execution_count": 5,
   "metadata": {},
   "outputs": [],
   "source": [
    "import sqlite3\n",
    "from sqlite3 import Error"
   ]
  },
  {
   "cell_type": "code",
   "execution_count": 10,
   "metadata": {},
   "outputs": [],
   "source": [
    "# create connection\n",
    "def sql_connection():\n",
    "    try:\n",
    "        connection = sqlite3.connect('sqlite.db')\n",
    "        return connection\n",
    "    except Error as er:\n",
    "        print(er)"
   ]
  },
  {
   "cell_type": "code",
   "execution_count": 11,
   "metadata": {},
   "outputs": [],
   "source": [
    "# execute a query\n",
    "def sql_execute(connection, query):\n",
    "    # create a cursor\n",
    "    cursor = connection.cursor()\n",
    "    cursor.execute(query)\n",
    "    connection.commit()"
   ]
  },
  {
   "cell_type": "code",
   "execution_count": 14,
   "metadata": {},
   "outputs": [],
   "source": [
    "# fetch data\n",
    "def sql_fetch(connection, select):\n",
    "    # create a cursor\n",
    "    cursor = connection.cursor()\n",
    "    cursor.execute(select)\n",
    "    for row in cursor.fetchall():\n",
    "        print(row)"
   ]
  },
  {
   "cell_type": "code",
   "execution_count": 19,
   "metadata": {},
   "outputs": [],
   "source": [
    "select_all = \"\"\"\n",
    "SELECT name FROM sqlite_schema\n",
    "WHERE type = 'table'\n",
    "ORDER BY name;\n",
    "\"\"\""
   ]
  },
  {
   "cell_type": "code",
   "execution_count": 31,
   "metadata": {},
   "outputs": [],
   "source": [
    "select_col = \"\"\"\n",
    "SELECT *\n",
    "FROM sqlite_schema\n",
    "WHERE name = 'Spacex'\n",
    ";\n",
    "\"\"\""
   ]
  },
  {
   "cell_type": "code",
   "execution_count": 32,
   "metadata": {},
   "outputs": [
    {
     "name": "stdout",
     "output_type": "stream",
     "text": [
      "('table', 'Spacex', 'Spacex', 3, \"CREATE TABLE 'Spacex' ('Date' TEXT,'Time_(UTC)' TEXT,'Booster_Version' TEXT,'Launch_Site' TEXT,'Payload' TEXT,'PAYLOAD_MASS__KG_' INTEGER,'Orbit' TEXT,'Customer' TEXT,'Mission_Outcome' TEXT,'Landing__Outcome' TEXT)\")\n"
     ]
    }
   ],
   "source": [
    "# sql_execute(connection, query)\n",
    "sql_fetch(sql_connection(), select_col)"
   ]
  },
  {
   "cell_type": "markdown",
   "metadata": {},
   "source": [
    "## Tasks\n",
    "\n",
    "Now write and execute SQL queries to solve the assignment tasks.\n",
    "\n",
    "### Task 1\n",
    "\n",
    "##### Display the names of the unique launch sites  in the space mission\n"
   ]
  },
  {
   "cell_type": "code",
   "execution_count": 35,
   "metadata": {},
   "outputs": [
    {
     "name": "stdout",
     "output_type": "stream",
     "text": [
      "('CCAFS LC-40',)\n",
      "('VAFB SLC-4E',)\n",
      "('KSC LC-39A',)\n",
      "('CCAFS SLC-40',)\n"
     ]
    }
   ],
   "source": [
    "sql_fetch(\n",
    "    sql_connection(),\n",
    "    \"\"\"\n",
    "    select distinct(Launch_Site)\n",
    "    from Spacex\n",
    "    \"\"\"\n",
    ")"
   ]
  },
  {
   "cell_type": "markdown",
   "metadata": {},
   "source": [
    "### Task 2\n",
    "\n",
    "##### Display 5 records where launch sites begin with the string 'CCA'\n"
   ]
  },
  {
   "cell_type": "code",
   "execution_count": 37,
   "metadata": {},
   "outputs": [
    {
     "name": "stdout",
     "output_type": "stream",
     "text": [
      "('04-06-2010', '18:45:00', 'F9 v1.0  B0003', 'CCAFS LC-40', 'Dragon Spacecraft Qualification Unit', 0, 'LEO', 'SpaceX', 'Success', 'Failure (parachute)')\n",
      "('08-12-2010', '15:43:00', 'F9 v1.0  B0004', 'CCAFS LC-40', 'Dragon demo flight C1, two CubeSats, barrel of Brouere cheese', 0, 'LEO (ISS)', 'NASA (COTS) NRO', 'Success', 'Failure (parachute)')\n",
      "('22-05-2012', '07:44:00', 'F9 v1.0  B0005', 'CCAFS LC-40', 'Dragon demo flight C2', 525, 'LEO (ISS)', 'NASA (COTS)', 'Success', 'No attempt')\n",
      "('08-10-2012', '00:35:00', 'F9 v1.0  B0006', 'CCAFS LC-40', 'SpaceX CRS-1', 500, 'LEO (ISS)', 'NASA (CRS)', 'Success', 'No attempt')\n",
      "('01-03-2013', '15:10:00', 'F9 v1.0  B0007', 'CCAFS LC-40', 'SpaceX CRS-2', 677, 'LEO (ISS)', 'NASA (CRS)', 'Success', 'No attempt')\n"
     ]
    }
   ],
   "source": [
    "sql_fetch(\n",
    "    sql_connection(),\n",
    "    \"\"\"\n",
    "    select *\n",
    "    from Spacex\n",
    "    where Launch_Site like ('CCA%')\n",
    "    limit 5\n",
    "    \"\"\"\n",
    ")"
   ]
  },
  {
   "cell_type": "markdown",
   "metadata": {},
   "source": [
    "### Task 3\n",
    "\n",
    "##### Display the total payload mass carried by boosters launched by NASA (CRS)\n"
   ]
  },
  {
   "cell_type": "code",
   "execution_count": 40,
   "metadata": {},
   "outputs": [
    {
     "name": "stdout",
     "output_type": "stream",
     "text": [
      "('NASA (CRS)', 45596)\n"
     ]
    }
   ],
   "source": [
    "sql_fetch(\n",
    "    sql_connection(),\n",
    "    \"\"\"\n",
    "    select Customer, sum(PAYLOAD_MASS__KG_)\n",
    "    from Spacex\n",
    "    where Customer = 'NASA (CRS)'\n",
    "    \"\"\"\n",
    ")"
   ]
  },
  {
   "cell_type": "code",
   "execution_count": 41,
   "metadata": {},
   "outputs": [
    {
     "name": "stdout",
     "output_type": "stream",
     "text": [
      "('NASA (CRS)', 'F9 B4  B1039.2', 2647)\n",
      "('NASA (CRS)', 'F9 B4 B1039.1', 3310)\n",
      "('NASA (CRS)', 'F9 B4 B1045.2', 2697)\n",
      "('NASA (CRS)', 'F9 B5 B1056.2 ', 2268)\n",
      "('NASA (CRS)', 'F9 B5 B1058.4 ', 2972)\n",
      "('NASA (CRS)', 'F9 B5 B1059.2', 1977)\n",
      "('NASA (CRS)', 'F9 B5B1050', 2500)\n",
      "('NASA (CRS)', 'F9 B5B1056.1 ', 2495)\n",
      "('NASA (CRS)', 'F9 FT  B1035.2', 2205)\n",
      "('NASA (CRS)', 'F9 FT B1021.1', 3136)\n",
      "('NASA (CRS)', 'F9 FT B1025.1', 2257)\n",
      "('NASA (CRS)', 'F9 FT B1031.1', 2490)\n",
      "('NASA (CRS)', 'F9 FT B1035.1', 2708)\n",
      "('NASA (CRS)', 'F9 v1.0  B0006', 500)\n",
      "('NASA (CRS)', 'F9 v1.0  B0007', 677)\n",
      "('NASA (CRS)', 'F9 v1.1', 2296)\n",
      "('NASA (CRS)', 'F9 v1.1 B1010', 2216)\n",
      "('NASA (CRS)', 'F9 v1.1 B1012', 2395)\n",
      "('NASA (CRS)', 'F9 v1.1 B1015', 1898)\n",
      "('NASA (CRS)', 'F9 v1.1 B1018', 1952)\n"
     ]
    }
   ],
   "source": [
    "sql_fetch(\n",
    "    sql_connection(),\n",
    "    \"\"\"\n",
    "    select Customer, Booster_Version, sum(PAYLOAD_MASS__KG_)\n",
    "    from Spacex\n",
    "    where Customer = 'NASA (CRS)'\n",
    "    group by Customer, Booster_Version\n",
    "    \"\"\"\n",
    ")"
   ]
  },
  {
   "cell_type": "markdown",
   "metadata": {},
   "source": [
    "### Task 4\n",
    "\n",
    "##### Display average payload mass carried by booster version F9 v1.1\n"
   ]
  },
  {
   "cell_type": "code",
   "execution_count": 43,
   "metadata": {},
   "outputs": [
    {
     "name": "stdout",
     "output_type": "stream",
     "text": [
      "('F9 v1.1', 2928.4)\n"
     ]
    }
   ],
   "source": [
    "sql_fetch(\n",
    "    sql_connection(),\n",
    "    \"\"\"\n",
    "    select Booster_Version, avg(PAYLOAD_MASS__KG_)\n",
    "    from Spacex\n",
    "    where Booster_Version = 'F9 v1.1'\n",
    "    \"\"\"\n",
    ")"
   ]
  },
  {
   "cell_type": "markdown",
   "metadata": {},
   "source": [
    "### Task 5\n",
    "\n",
    "##### List the date when the first successful landing outcome in ground pad was acheived.\n",
    "\n",
    "*Hint:Use min function*\n"
   ]
  },
  {
   "cell_type": "markdown",
   "metadata": {},
   "source": [
    "You cannot SELECT from a string. You need to use square brackets around the table/column name"
   ]
  },
  {
   "cell_type": "code",
   "execution_count": 138,
   "metadata": {},
   "outputs": [
    {
     "name": "stdout",
     "output_type": "stream",
     "text": [
      "('2015-12-22',)\n"
     ]
    }
   ],
   "source": [
    "sql_fetch(\n",
    "    sql_connection(),\n",
    "    \"\"\"\n",
    "    select date(substr(Date, 7) || \"-\" || substr(Date, 4, 2) || \"-\" || substr(Date, 1, 2)) as date_formated\n",
    "    from Spacex\n",
    "    where landing__outcome = 'Success (ground pad)'\n",
    "    order by date_formated, [Time_(UTC)]\n",
    "    limit 1\n",
    "    \"\"\"\n",
    ")"
   ]
  },
  {
   "cell_type": "code",
   "execution_count": 139,
   "metadata": {},
   "outputs": [
    {
     "name": "stdout",
     "output_type": "stream",
     "text": [
      "('2015-12-22',)\n"
     ]
    }
   ],
   "source": [
    "sql_fetch(\n",
    "    sql_connection(),\n",
    "    \"\"\"\n",
    "    select min(date(substr(Date, 7) || \"-\" || substr(Date, 4, 2) || \"-\" || substr(Date, 1, 2)))\n",
    "    from Spacex\n",
    "    where landing__outcome = 'Success (ground pad)'\n",
    "    \"\"\"\n",
    ")"
   ]
  },
  {
   "cell_type": "markdown",
   "metadata": {},
   "source": [
    "### Task 6\n",
    "\n",
    "##### List the names of the boosters which have success in drone ship and have payload mass greater than 4000 but less than 6000\n"
   ]
  },
  {
   "cell_type": "code",
   "execution_count": 59,
   "metadata": {},
   "outputs": [
    {
     "name": "stdout",
     "output_type": "stream",
     "text": [
      "('F9 FT B1022',)\n",
      "('F9 FT B1026',)\n",
      "('F9 FT  B1021.2',)\n",
      "('F9 FT  B1031.2',)\n"
     ]
    }
   ],
   "source": [
    "sql_fetch(\n",
    "    sql_connection(),\n",
    "    \"\"\"\n",
    "    select distinct(Booster_Version)\n",
    "    --select *\n",
    "    from Spacex\n",
    "    where 1 = 1\n",
    "        and upper(Landing__Outcome) like ('SUCCESS%')\n",
    "        and upper(Landing__Outcome) like ('%DRONE SHIP%')\n",
    "        and PAYLOAD_MASS__KG_ > 4000\n",
    "        and PAYLOAD_MASS__KG_ < 6000\n",
    "    \"\"\"\n",
    ")"
   ]
  },
  {
   "cell_type": "markdown",
   "metadata": {},
   "source": [
    "### Task 7\n",
    "\n",
    "##### List the total number of successful and failure mission outcomes\n"
   ]
  },
  {
   "cell_type": "code",
   "execution_count": 65,
   "metadata": {},
   "outputs": [
    {
     "name": "stdout",
     "output_type": "stream",
     "text": [
      "('Failure', 1)\n",
      "('Success', 100)\n"
     ]
    }
   ],
   "source": [
    "sql_fetch(\n",
    "    sql_connection(),\n",
    "    \"\"\"\n",
    "    select 'Success', count(*)\n",
    "    from Spacex\n",
    "    where upper(Mission_Outcome) like ('SUCCESS%')\n",
    "    union\n",
    "    select 'Failure', count(*)\n",
    "    from Spacex\n",
    "    where upper(Mission_Outcome) like ('FAILURE%')\n",
    "    \"\"\"\n",
    ")"
   ]
  },
  {
   "cell_type": "markdown",
   "metadata": {},
   "source": [
    "### Task 8\n",
    "\n",
    "##### List the   names of the booster_versions which have carried the maximum payload mass. Use a subquery\n"
   ]
  },
  {
   "cell_type": "code",
   "execution_count": 69,
   "metadata": {},
   "outputs": [
    {
     "name": "stdout",
     "output_type": "stream",
     "text": [
      "('F9 B5 B1048.4', 15600)\n",
      "('F9 B5 B1049.4', 15600)\n",
      "('F9 B5 B1051.3', 15600)\n",
      "('F9 B5 B1056.4', 15600)\n",
      "('F9 B5 B1048.5', 15600)\n",
      "('F9 B5 B1051.4', 15600)\n",
      "('F9 B5 B1049.5', 15600)\n",
      "('F9 B5 B1060.2 ', 15600)\n",
      "('F9 B5 B1058.3 ', 15600)\n",
      "('F9 B5 B1051.6', 15600)\n",
      "('F9 B5 B1060.3', 15600)\n",
      "('F9 B5 B1049.7 ', 15600)\n"
     ]
    }
   ],
   "source": [
    "sql_fetch(\n",
    "    sql_connection(),\n",
    "    \"\"\"\n",
    "    select distinct(Booster_Version), PAYLOAD_MASS__KG_\n",
    "    from Spacex\n",
    "    where PAYLOAD_MASS__KG_ = (\n",
    "        select max(PAYLOAD_MASS__KG_)\n",
    "        from Spacex\n",
    "    )\n",
    "    \"\"\"\n",
    ")"
   ]
  },
  {
   "cell_type": "markdown",
   "metadata": {},
   "source": [
    "### Task 9\n",
    "\n",
    "##### List the failed landing_outcomes in drone ship, their booster versions, and launch site names for in year 2015\n"
   ]
  },
  {
   "cell_type": "code",
   "execution_count": 73,
   "metadata": {},
   "outputs": [
    {
     "name": "stdout",
     "output_type": "stream",
     "text": [
      "('Failure (drone ship)', 'F9 v1.1 B1012', 'CCAFS LC-40', '10-01-2015')\n",
      "('Failure (drone ship)', 'F9 v1.1 B1015', 'CCAFS LC-40', '14-04-2015')\n"
     ]
    }
   ],
   "source": [
    "sql_fetch(\n",
    "    sql_connection(),\n",
    "    \"\"\"\n",
    "    select Landing__Outcome, Booster_Version, Launch_Site, date\n",
    "    from Spacex\n",
    "    where 1 = 1\n",
    "        and upper(Landing__Outcome) like ('%DRONE SHIP%')\n",
    "        and upper(Landing__Outcome) like ('FAILURE%')\n",
    "        and date like '%2015'\n",
    "    \"\"\"\n",
    ")"
   ]
  },
  {
   "cell_type": "markdown",
   "metadata": {},
   "source": [
    "### Task 10\n",
    "\n",
    "##### Rank the count of landing outcomes (such as Failure (drone ship) or Success (ground pad)) between the date 2010-06-04 and 2017-03-20, in descending order\n"
   ]
  },
  {
   "cell_type": "code",
   "execution_count": 142,
   "metadata": {},
   "outputs": [
    {
     "name": "stdout",
     "output_type": "stream",
     "text": [
      "('No attempt', 10)\n",
      "('Success (drone ship)', 5)\n",
      "('Failure (drone ship)', 5)\n",
      "('Success (ground pad)', 3)\n",
      "('Controlled (ocean)', 3)\n",
      "('Uncontrolled (ocean)', 2)\n",
      "('Failure (parachute)', 2)\n",
      "('Precluded (drone ship)', 1)\n"
     ]
    }
   ],
   "source": [
    "sql_fetch(\n",
    "    sql_connection(),\n",
    "    \"\"\"\n",
    "    select Landing__Outcome, count(*) as Landing__Outcome_count\n",
    "    from Spacex\n",
    "    where 1 = 1\n",
    "        and date(substr(Date, 7) || \"-\" || substr(Date, 4, 2) || \"-\" || substr(Date, 1, 2)) between '2010-06-04' and '2017-03-20'\n",
    "    group by Landing__Outcome\n",
    "    order by Landing__Outcome_count desc\n",
    "    \"\"\"\n",
    ")"
   ]
  },
  {
   "cell_type": "markdown",
   "metadata": {},
   "source": [
    "### Reference Links\n",
    "\n",
    "*   <a href =\"https://cf-courses-data.s3.us.cloud-object-storage.appdomain.cloud/IBMDeveloperSkillsNetwork-DB0201EN-SkillsNetwork/labs/Labs_Coursera_V5/labs/Lab%20-%20String%20Patterns%20-%20Sorting%20-%20Grouping/instructional-labs.md.html?utm_medium=Exinfluencer&utm_source=Exinfluencer&utm_content=000026UJ&utm_term=10006555&utm_id=NA-SkillsNetwork-Channel-SkillsNetworkCoursesIBMDS0321ENSkillsNetwork26802033-2021-01-01&origin=www.coursera.org\">Hands-on Lab : String Patterns, Sorting and Grouping</a>\n",
    "\n",
    "*   <a  href=\"https://cf-courses-data.s3.us.cloud-object-storage.appdomain.cloud/IBMDeveloperSkillsNetwork-DB0201EN-SkillsNetwork/labs/Labs_Coursera_V5/labs/Lab%20-%20Built-in%20functions%20/Hands-on_Lab__Built-in_Functions.md.html?utm_medium=Exinfluencer&utm_source=Exinfluencer&utm_content=000026UJ&utm_term=10006555&utm_id=NA-SkillsNetwork-Channel-SkillsNetworkCoursesIBMDS0321ENSkillsNetwork26802033-2021-01-01&origin=www.coursera.org\">Hands-on Lab: Built-in functions</a>\n",
    "\n",
    "*   <a  href=\"https://cf-courses-data.s3.us.cloud-object-storage.appdomain.cloud/IBMDeveloperSkillsNetwork-DB0201EN-SkillsNetwork/labs/Labs_Coursera_V5/labs/Lab%20-%20Sub-queries%20and%20Nested%20SELECTs%20/instructional-labs.md.html?utm_medium=Exinfluencer&utm_source=Exinfluencer&utm_content=000026UJ&utm_term=10006555&utm_id=NA-SkillsNetwork-Channel-SkillsNetworkCoursesIBMDS0321ENSkillsNetwork26802033-2021-01-01&origin=www.coursera.org\">Hands-on Lab : Sub-queries and Nested SELECT Statements</a>\n",
    "\n",
    "*   <a href=\"https://cf-courses-data.s3.us.cloud-object-storage.appdomain.cloud/IBMDeveloperSkillsNetwork-DB0201EN-SkillsNetwork/labs/Module%205/DB0201EN-Week3-1-3-SQLmagic.ipynb?utm_medium=Exinfluencer&utm_source=Exinfluencer&utm_content=000026UJ&utm_term=10006555&utm_id=NA-SkillsNetwork-Channel-SkillsNetworkCoursesIBMDS0321ENSkillsNetwork26802033-2021-01-01\">Hands-on Tutorial: Accessing Databases with SQL magic</a>\n",
    "\n",
    "*   <a href= \"https://cf-courses-data.s3.us.cloud-object-storage.appdomain.cloud/IBMDeveloperSkillsNetwork-DB0201EN-SkillsNetwork/labs/Module%205/DB0201EN-Week3-1-4-Analyzing.ipynb?utm_medium=Exinfluencer&utm_source=Exinfluencer&utm_content=000026UJ&utm_term=10006555&utm_id=NA-SkillsNetwork-Channel-SkillsNetworkCoursesIBMDS0321ENSkillsNetwork26802033-2021-01-01\">Hands-on Lab: Analyzing a real World Data Set</a>\n"
   ]
  },
  {
   "cell_type": "markdown",
   "metadata": {},
   "source": [
    "## Author(s)\n",
    "\n",
    "<h4> Lakshmi Holla </h4>\n"
   ]
  },
  {
   "cell_type": "markdown",
   "metadata": {},
   "source": [
    "## Other Contributors\n",
    "\n",
    "<h4> Rav Ahuja </h4>\n"
   ]
  },
  {
   "cell_type": "markdown",
   "metadata": {},
   "source": [
    "## Change log\n",
    "\n",
    "| Date       | Version | Changed by    | Change Description        |\n",
    "| ---------- | ------- | ------------- | ------------------------- |\n",
    "| 2021-10-12 | 0.4     | Lakshmi Holla | Changed markdown          |\n",
    "| 2021-08-24 | 0.3     | Lakshmi Holla | Added library update      |\n",
    "| 2021-07-09 | 0.2     | Lakshmi Holla | Changes made in magic sql |\n",
    "| 2021-05-20 | 0.1     | Lakshmi Holla | Created Initial Version   |\n"
   ]
  },
  {
   "cell_type": "markdown",
   "metadata": {},
   "source": [
    "## <h3 align=\"center\"> © IBM Corporation 2021. All rights reserved. <h3/>\n"
   ]
  }
 ],
 "metadata": {
  "kernelspec": {
   "display_name": "Python 3",
   "language": "python",
   "name": "python3"
  },
  "language_info": {
   "codemirror_mode": {
    "name": "ipython",
    "version": 3
   },
   "file_extension": ".py",
   "mimetype": "text/x-python",
   "name": "python",
   "nbconvert_exporter": "python",
   "pygments_lexer": "ipython3",
   "version": "3.7.3"
  }
 },
 "nbformat": 4,
 "nbformat_minor": 4
}
